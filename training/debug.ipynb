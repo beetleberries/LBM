{
 "cells": [
  {
   "cell_type": "code",
   "execution_count": 1,
   "id": "3ad24e44",
   "metadata": {},
   "outputs": [
    {
     "name": "stdout",
     "output_type": "stream",
     "text": [
      "epochs shape: (26508, 30, 1001)\n",
      "labels shape: (26508,)\n",
      "Number of samples: 26508\n"
     ]
    }
   ],
   "source": [
    "import numpy as np\n",
    "\n",
    "epochs_path = \"C:/Users/HYUN/capstone/LBM/processed_data_ica/all_epochs_ica_std.npy\"\n",
    "labels_path = \"C:/Users/HYUN/capstone/LBM/processed_data_ica/all_labels_ica.npy\"\n",
    "\n",
    "epochs = np.load(epochs_path)\n",
    "labels = np.load(labels_path, allow_pickle=True)  \n",
    "\n",
    "print(f\"epochs shape: {epochs.shape}\")  # eg: (3621, 30, 512)\n",
    "print(f\"labels shape: {labels.shape}\")  # eg: (3621,)\n",
    "\n",
    "print(f\"Number of samples: {epochs.shape[0]}\")\n"
   ]
  },
  {
   "cell_type": "code",
   "execution_count": 8,
   "id": "ed622b62",
   "metadata": {},
   "outputs": [
    {
     "name": "stderr",
     "output_type": "stream",
     "text": [
      "C:\\Users\\HYUN\\AppData\\Local\\Temp\\ipykernel_39252\\655955237.py:18: FutureWarning: You are using `torch.load` with `weights_only=False` (the current default value), which uses the default pickle module implicitly. It is possible to construct malicious pickle data which will execute arbitrary code during unpickling (See https://github.com/pytorch/pytorch/blob/main/SECURITY.md#untrusted-models for more details). In a future release, the default value for `weights_only` will be flipped to `True`. This limits the functions that could be executed during unpickling. Arbitrary objects will no longer be allowed to be loaded via this mode unless they are explicitly allowlisted by the user via `torch.serialization.add_safe_globals`. We recommend you start setting `weights_only=True` for any use case where you don't have full control of the loaded file. Please open an issue on GitHub for any issues related to this experimental feature.\n",
      "  vqvae.load_state_dict(torch.load(MODEL_PATH, map_location=DEVICE))\n"
     ]
    },
    {
     "name": "stdout",
     "output_type": "stream",
     "text": [
      "Reconstruction Loss (MSE): 0.0929\n",
      "VQ Loss (codebook + commitment): 0.2051\n",
      "Total Loss: 0.2980\n",
      "Perplexity: 355.1917\n"
     ]
    }
   ],
   "source": [
    "import torch\n",
    "import numpy as np\n",
    "from model_v2 import VQVAE \n",
    "import torch.nn.functional as F\n",
    "\n",
    "MODEL_PATH = \"C:/Users/HYUN/capstone/LBM/training/vq_vae_model_v2.pth\"\n",
    "DATA_PATH = \"C:/Users/HYUN/capstone/LBM/processed_data_ica/all_epochs_ica_std.npy\"\n",
    "DEVICE = torch.device(\"cuda\" if torch.cuda.is_available() else \"cpu\")\n",
    "\n",
    "\n",
    "embedding_dim = 256\n",
    "input_channels = 30               \n",
    "num_embeddings = 512\n",
    "commitment_cost = 0.25\n",
    "decay = 0.99\n",
    "\n",
    "vqvae = VQVAE(input_channels, embedding_dim, num_embeddings, commitment_cost, decay).to(DEVICE)\n",
    "vqvae.load_state_dict(torch.load(MODEL_PATH, map_location=DEVICE))\n",
    "vqvae.eval()\n",
    "\n",
    "data = np.load(DATA_PATH)\n",
    "sample = torch.tensor(data[:8], dtype=torch.float32).to(DEVICE) \n",
    "\n",
    "with torch.no_grad():\n",
    "    vq_loss, recon, perplexity, _ = vqvae(sample)\n",
    "    recon_loss = F.mse_loss(recon, sample)\n",
    "    total_loss = vq_loss + recon_loss\n",
    "\n",
    "print(f\"Reconstruction Loss (MSE): {recon_loss.item():.4f}\")\n",
    "print(f\"VQ Loss (codebook + commitment): {vq_loss.item():.4f}\")\n",
    "print(f\"Total Loss: {total_loss.item():.4f}\")\n",
    "print(f\"Perplexity: {perplexity.item():.4f}\")\n"
   ]
  }
 ],
 "metadata": {
  "kernelspec": {
   "display_name": "dl-gpu",
   "language": "python",
   "name": "python3"
  },
  "language_info": {
   "codemirror_mode": {
    "name": "ipython",
    "version": 3
   },
   "file_extension": ".py",
   "mimetype": "text/x-python",
   "name": "python",
   "nbconvert_exporter": "python",
   "pygments_lexer": "ipython3",
   "version": "3.10.16"
  }
 },
 "nbformat": 4,
 "nbformat_minor": 5
}
